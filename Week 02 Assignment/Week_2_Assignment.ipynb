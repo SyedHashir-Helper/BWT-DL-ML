{
  "nbformat": 4,
  "nbformat_minor": 0,
  "metadata": {
    "colab": {
      "provenance": []
    },
    "kernelspec": {
      "name": "python3",
      "display_name": "Python 3"
    },
    "language_info": {
      "name": "python"
    }
  },
  "cells": [
    {
      "cell_type": "markdown",
      "source": [
        "$$ \\text{Bytewise Track ML/DL Week 2} $$\n"
      ],
      "metadata": {
        "id": "ZLynnsEXvMFE"
      }
    },
    {
      "cell_type": "markdown",
      "source": [
        "**Question 1** \\\\\n",
        "Write a code that will:\n",
        "1. Prompt the user to enter their name, age, email, and favorite number.\n",
        "2. Stores these inputs in a dictionary with appropriate keys.\n",
        "3. Validate the email format (contains \"@\" and \".\").\n",
        "4. Displays a message using these variables, formatted as: \"Hello [name], you are [age] years old, your email is [email], and your favorite number is [favorite number].\"\n"
      ],
      "metadata": {
        "id": "G6ZkVkeJvCdI"
      }
    },
    {
      "cell_type": "code",
      "source": [
        "name = input(\"Enter Name: \")\n",
        "age = int(input(\"Enter age: \"))\n",
        "while(True):\n",
        "  email = input(\"Enter email\")\n",
        "  if \"@\" in email and \".\" in email:\n",
        "    break\n",
        "  print(\"---Invalid Email Type Again---\")\n",
        "fvrtNumber = input(\"Enter fvrt number: \")\n",
        "\n",
        "data = {\n",
        "    name: name,\n",
        "    age: age,\n",
        "    email: email,\n",
        "    fvrtNumber: fvrtNumber\n",
        "}\n",
        "\n",
        "print(f\"Hello {data[name]}, you are {data[age]} years old, your email is {data[email]}, and your favorite number is {data[fvrtNumber]}.\")"
      ],
      "metadata": {
        "colab": {
          "base_uri": "https://localhost:8080/"
        },
        "id": "tPGH-dXVv22u",
        "outputId": "97c2075a-53e5-48d2-81c7-913cef36bb59"
      },
      "execution_count": 3,
      "outputs": [
        {
          "output_type": "stream",
          "name": "stdout",
          "text": [
            "Enter Name: Syed Hashir Husnain\n",
            "Enter age: 19\n",
            "Enter emailsyedhashir1001@gmail.com\n",
            "Enter fvrt number: 19\n",
            "Hello Syed Hashir Husnain, you are 19 years old, your email is syedhashir1001@gmail.com, and your favorite number is 19.\n"
          ]
        }
      ]
    },
    {
      "cell_type": "markdown",
      "source": [
        "Question 2 \\\\\n",
        "Write a code for a function `Is_even(number)` that will:\n",
        "1. Takes an integer as an input.\n",
        "2. Returns True if the number is even, otherwise False if the number is odd.\n",
        "3. Print whether the number was even or odd"
      ],
      "metadata": {
        "id": "NNAZ06z6xaCj"
      }
    },
    {
      "cell_type": "code",
      "execution_count": 5,
      "metadata": {
        "colab": {
          "base_uri": "https://localhost:8080/"
        },
        "id": "YaQnFdsLu8Ux",
        "outputId": "3a353257-6d4e-41e5-8492-9467962c56e4"
      },
      "outputs": [
        {
          "output_type": "stream",
          "name": "stdout",
          "text": [
            "Odd\n"
          ]
        }
      ],
      "source": [
        "def Is_even(num):\n",
        "  return num % 2 == 0\n",
        "\n",
        "print(\"Even\" if Is_even(11) else \"Odd\")"
      ]
    },
    {
      "cell_type": "markdown",
      "source": [
        "Question 3  \\\\\n",
        "Write a function `convert_temperature(temp, scale)` that:\n",
        "1. Takes a temperature value and a scale (\"C\" for Celsius, \"F\" for Fahrenheit) as inputs.\n",
        "2. Converts the temperature to the other scale.\n",
        "3. Returns the converted temperature.\n",
        "4. Display the converted temperature."
      ],
      "metadata": {
        "id": "XsT5njqbylVJ"
      }
    },
    {
      "cell_type": "code",
      "source": [
        "def convert_temperature(temp, scale):\n",
        "  return 1.8*temp + 32 if scale == \"C\" else (temp - 32)*5/9\n",
        "\n",
        "print(convert_temperature(98.6, \"F\"))"
      ],
      "metadata": {
        "colab": {
          "base_uri": "https://localhost:8080/"
        },
        "id": "yD79ys1AytAt",
        "outputId": "6356e8ea-133a-4f60-b467-624f19c4ddbe"
      },
      "execution_count": 8,
      "outputs": [
        {
          "output_type": "stream",
          "name": "stdout",
          "text": [
            "37.0\n"
          ]
        }
      ]
    },
    {
      "cell_type": "markdown",
      "source": [
        "Question 4 \\\\\n",
        "Write a code that will:\n",
        "1. Contains a function `find_max_min(numbers_list)` that takes a list of numbers and returns both the maximum and minimum numbers in the list.\n",
        "2. Prompts the user to enter 5 numbers, stores them in a list, and then uses the `find_max_min` function to find and display the maximum and minimum numbers.\n"
      ],
      "metadata": {
        "id": "ksemL-1xzWxj"
      }
    },
    {
      "cell_type": "code",
      "source": [
        "nums = []\n",
        "while(len(nums) < 5):\n",
        "  nums.append(int(input(f\"Enter number {len(nums) + 1}:\")))\n",
        "\n",
        "def find_max_min(numbers_list):\n",
        "  max = -100000\n",
        "  min = 100000\n",
        "  for i in range(len(numbers_list)):\n",
        "    if max < numbers_list[i]:\n",
        "      max = numbers_list[i]\n",
        "    if min > numbers_list[i]:\n",
        "      min = numbers_list[i]\n",
        "  return max, min\n",
        "\n",
        "max, min = find_max_min(nums)\n",
        "print(f\"Maximum = {max} Minimum = {min}\")"
      ],
      "metadata": {
        "colab": {
          "base_uri": "https://localhost:8080/"
        },
        "id": "5eb8gLYizRp9",
        "outputId": "e5217852-d0f1-4060-df61-791bcca4762d"
      },
      "execution_count": 13,
      "outputs": [
        {
          "output_type": "stream",
          "name": "stdout",
          "text": [
            "Enter number 1:10\n",
            "Enter number 2:20\n",
            "Enter number 3:30\n",
            "Enter number 4:40\n",
            "Enter number 5:50\n",
            "Maximum = 50 Minimum = 10\n"
          ]
        }
      ]
    },
    {
      "cell_type": "markdown",
      "source": [
        "Question 5 \\\\\n",
        "Write a code that will:\n",
        "1. Prompt the user to enter details of 3 students: name, age, and grade.\n",
        "2. Stores these details in a list of tuples, with each tuple containing the name, age, and grade of a student.\n",
        "3. Convert this list of tuples into a dictionary with the student name as the key and the tuple (age, grade) as the value.\n",
        "4. Displays an appropriate output.\n",
        ""
      ],
      "metadata": {
        "id": "CsbOxVpS1Qzq"
      }
    },
    {
      "cell_type": "code",
      "source": [
        "data = []\n",
        "\n",
        "while(len(data) < 3):\n",
        "  print(f\"--- Enter Details of Student {len(data)+1} ---\")\n",
        "  name = input(\"Enter Name: \")\n",
        "  age = int(input(\"Enter age: \"))\n",
        "  grade = (input(\"Enter grade: \"))\n",
        "  data.append((name,age,grade))\n",
        "  print()\n",
        "\n",
        "dic = {}\n",
        "for i in range(len(data)):\n",
        "  dic[data[i][0]] = (data[i][1],data[i][2])\n",
        "print(dic)\n",
        "\n",
        "\n"
      ],
      "metadata": {
        "colab": {
          "base_uri": "https://localhost:8080/"
        },
        "id": "h33HQ6MZ1Qjx",
        "outputId": "c7ee650b-af52-452e-c94f-578dcaa2eaf0"
      },
      "execution_count": 17,
      "outputs": [
        {
          "output_type": "stream",
          "name": "stdout",
          "text": [
            "--- Enter Details of Student 1 ---\n",
            "Enter Name: Hamza\n",
            "Enter age: 20\n",
            "Enter grade: A\n",
            "\n",
            "--- Enter Details of Student 2 ---\n",
            "Enter Name: Hashir\n",
            "Enter age: 20\n",
            "Enter grade: A-\n",
            "\n",
            "--- Enter Details of Student 3 ---\n",
            "Enter Name: Husnain\n",
            "Enter age: 20\n",
            "Enter grade: A+\n",
            "\n",
            "{'Hamza': (20, 'A'), 'Hashir': (20, 'A-'), 'Husnain': (20, 'A+')}\n"
          ]
        }
      ]
    },
    {
      "cell_type": "markdown",
      "source": [
        "Question 6 \\\\\n",
        "Write a code for function `update_inventory(inventory_dict, item, quantity)` that will:\n",
        "1. Take a dictionary where keys are item names and values are quantities, an item name, and a quantity to add or remove.\n",
        "2. Updates the inventory by adding or removing the specified quantity (use negative values for removal).\n",
        "3. Ensures that the quantity of any item does not go below zero.\n",
        "4. Returns the updated dictionary.\n",
        "\n",
        "Use this function to\n",
        "1. Initialize an inventory dictionary with at least 5 items.\n",
        "2. Prompt the user to update the inventory by adding or removing quantities of 3 items.\n",
        "3. Display the updated inventory.\n"
      ],
      "metadata": {
        "id": "8_qMgsrc4cQ8"
      }
    },
    {
      "cell_type": "code",
      "source": [
        "items = {\n",
        "    \"Bat\" : 100,\n",
        "    \"Ball\" : 100,\n",
        "    \"Gloves\" : 100,\n",
        "    \"Pads\" : 100,\n",
        "    \"Helmet\": 100\n",
        "}\n",
        "\n",
        "def update_inventory(inventory_dict, item, quantity):\n",
        "  inventory_dict[item] += quantity\n",
        "  return inventory_dict\n",
        "\n",
        "while(True):\n",
        "  print(\"Items Available: \", end=\"\")\n",
        "  print(list(items.keys()))\n",
        "  item = input(\"Enter Item, Quantity, Mode (e.g., Bat,10,Buy/Stock)\").split(\",\")\n",
        "  print(update_inventory(items, item[0], int(item[1])) if item[2] == \"Stock\" else update_inventory(items, item[0], -int(item[1])) )\n",
        "  print(\"------------------\")\n",
        "  if input(\"More Stuff? (0/1): \") == \"0\":\n",
        "    break\n",
        "\n"
      ],
      "metadata": {
        "colab": {
          "base_uri": "https://localhost:8080/"
        },
        "id": "_wUVhl325DN1",
        "outputId": "e781e39a-30cd-4006-8d74-d8391a7abdf1"
      },
      "execution_count": 23,
      "outputs": [
        {
          "name": "stdout",
          "output_type": "stream",
          "text": [
            "Items Available: ['Bat', 'Ball', 'Gloves', 'Pads', 'Helmet']\n",
            "Enter Item, Quantity, Mode (e.g., Bat,10,Buy/Stock)Bat,20,Buy\n",
            "{'Bat': 80, 'Ball': 100, 'Gloves': 100, 'Pads': 100, 'Helmet': 100}\n",
            "------------------\n",
            "More Stuff? (0/1): 1\n",
            "Items Available: ['Bat', 'Ball', 'Gloves', 'Pads', 'Helmet']\n",
            "Enter Item, Quantity, Mode (e.g., Bat,10,Buy/Stock)Pads,10,Buy\n",
            "{'Bat': 80, 'Ball': 100, 'Gloves': 100, 'Pads': 90, 'Helmet': 100}\n",
            "------------------\n",
            "More Stuff? (0/1): 1\n",
            "Items Available: ['Bat', 'Ball', 'Gloves', 'Pads', 'Helmet']\n",
            "Enter Item, Quantity, Mode (e.g., Bat,10,Buy/Stock)Gloves,20,Stock\n",
            "{'Bat': 80, 'Ball': 100, 'Gloves': 120, 'Pads': 90, 'Helmet': 100}\n",
            "------------------\n",
            "More Stuff? (0/1): 0\n"
          ]
        }
      ]
    },
    {
      "cell_type": "code",
      "source": [],
      "metadata": {
        "id": "rTJVM_ti5ocH"
      },
      "execution_count": null,
      "outputs": []
    }
  ]
}